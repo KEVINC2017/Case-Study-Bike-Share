{
 "cells": [
  {
   "cell_type": "code",
   "execution_count": 52,
   "metadata": {},
   "outputs": [],
   "source": [
    "import pandas as pd\n",
    "import os"
   ]
  },
  {
   "cell_type": "code",
   "execution_count": 53,
   "metadata": {},
   "outputs": [
    {
     "name": "stdout",
     "output_type": "stream",
     "text": [
      "<class 'pandas.core.frame.DataFrame'>\n",
      "RangeIndex: 190301 entries, 0 to 190300\n",
      "Data columns (total 13 columns):\n",
      " #   Column              Non-Null Count   Dtype  \n",
      "---  ------              --------------   -----  \n",
      " 0   ride_id             190301 non-null  object \n",
      " 1   rideable_type       190301 non-null  object \n",
      " 2   started_at          190301 non-null  object \n",
      " 3   ended_at            190301 non-null  object \n",
      " 4   start_station_name  163580 non-null  object \n",
      " 5   start_station_id    163580 non-null  object \n",
      " 6   end_station_name    162461 non-null  object \n",
      " 7   end_station_id      162461 non-null  object \n",
      " 8   start_lat           190301 non-null  float64\n",
      " 9   start_lng           190301 non-null  float64\n",
      " 10  end_lat             190174 non-null  float64\n",
      " 11  end_lng             190174 non-null  float64\n",
      " 12  member_casual       190301 non-null  object \n",
      "dtypes: float64(4), object(9)\n",
      "memory usage: 18.9+ MB\n"
     ]
    }
   ],
   "source": [
    "# Read the first and second csv file and display information for initial exploring of the data\n",
    "data_202301 = pd.read_csv(r'Raw Data\\202301-divvy-tripdata.csv')\n",
    "data_202302 = pd.read_csv(r'Raw Data\\202302-divvy-tripdata.csv')\n",
    "data_202301.info()"
   ]
  },
  {
   "cell_type": "code",
   "execution_count": 54,
   "metadata": {},
   "outputs": [
    {
     "name": "stdout",
     "output_type": "stream",
     "text": [
      "<class 'pandas.core.frame.DataFrame'>\n",
      "RangeIndex: 190445 entries, 0 to 190444\n",
      "Data columns (total 13 columns):\n",
      " #   Column              Non-Null Count   Dtype  \n",
      "---  ------              --------------   -----  \n",
      " 0   ride_id             190445 non-null  object \n",
      " 1   rideable_type       190445 non-null  object \n",
      " 2   started_at          190445 non-null  object \n",
      " 3   ended_at            190445 non-null  object \n",
      " 4   start_station_name  164972 non-null  object \n",
      " 5   start_station_id    164840 non-null  object \n",
      " 6   end_station_name    163707 non-null  object \n",
      " 7   end_station_id      163566 non-null  object \n",
      " 8   start_lat           190445 non-null  float64\n",
      " 9   start_lng           190445 non-null  float64\n",
      " 10  end_lat             190329 non-null  float64\n",
      " 11  end_lng             190329 non-null  float64\n",
      " 12  member_casual       190445 non-null  object \n",
      "dtypes: float64(4), object(9)\n",
      "memory usage: 18.9+ MB\n"
     ]
    }
   ],
   "source": [
    "data_202302.info()"
   ]
  },
  {
   "cell_type": "code",
   "execution_count": 55,
   "metadata": {},
   "outputs": [
    {
     "name": "stdout",
     "output_type": "stream",
     "text": [
      "<class 'pandas.core.frame.DataFrame'>\n",
      "RangeIndex: 5719877 entries, 0 to 5719876\n",
      "Data columns (total 13 columns):\n",
      " #   Column              Dtype  \n",
      "---  ------              -----  \n",
      " 0   ride_id             object \n",
      " 1   rideable_type       object \n",
      " 2   started_at          object \n",
      " 3   ended_at            object \n",
      " 4   start_station_name  object \n",
      " 5   start_station_id    object \n",
      " 6   end_station_name    object \n",
      " 7   end_station_id      object \n",
      " 8   start_lat           float64\n",
      " 9   start_lng           float64\n",
      " 10  end_lat             float64\n",
      " 11  end_lng             float64\n",
      " 12  member_casual       object \n",
      "dtypes: float64(4), object(9)\n",
      "memory usage: 567.3+ MB\n"
     ]
    }
   ],
   "source": [
    "# Combining csv's from Raw Data folder\n",
    "\n",
    "data_unite = []\n",
    "for csv in os.listdir(r'Raw Data'):\n",
    "    if csv.endswith('.csv'):\n",
    "        route_csv = os.path.join(r'Raw Data',csv)\n",
    "        df = pd.read_csv(route_csv)\n",
    "        data_unite.append(df)\n",
    "\n",
    "df_Cyclistic = pd.concat(data_unite, ignore_index=True)\n",
    "\n",
    "df_Cyclistic.info()"
   ]
  },
  {
   "cell_type": "code",
   "execution_count": 56,
   "metadata": {},
   "outputs": [
    {
     "data": {
      "text/plain": [
       "ride_id                    0\n",
       "rideable_type              0\n",
       "started_at                 0\n",
       "ended_at                   0\n",
       "start_station_name    875716\n",
       "start_station_id      875848\n",
       "end_station_name      929202\n",
       "end_station_id        929343\n",
       "start_lat                  0\n",
       "start_lng                  0\n",
       "end_lat                 6990\n",
       "end_lng                 6990\n",
       "member_casual              0\n",
       "dtype: int64"
      ]
     },
     "execution_count": 56,
     "metadata": {},
     "output_type": "execute_result"
    }
   ],
   "source": [
    "# Count of missing values in the df_Cyclistic\n",
    "df_Cyclistic.isnull().sum()"
   ]
  },
  {
   "cell_type": "code",
   "execution_count": 57,
   "metadata": {},
   "outputs": [
    {
     "data": {
      "text/html": [
       "<div>\n",
       "<style scoped>\n",
       "    .dataframe tbody tr th:only-of-type {\n",
       "        vertical-align: middle;\n",
       "    }\n",
       "\n",
       "    .dataframe tbody tr th {\n",
       "        vertical-align: top;\n",
       "    }\n",
       "\n",
       "    .dataframe thead th {\n",
       "        text-align: right;\n",
       "    }\n",
       "</style>\n",
       "<table border=\"1\" class=\"dataframe\">\n",
       "  <thead>\n",
       "    <tr style=\"text-align: right;\">\n",
       "      <th></th>\n",
       "      <th>ride_id</th>\n",
       "      <th>rideable_type</th>\n",
       "      <th>started_at</th>\n",
       "      <th>ended_at</th>\n",
       "      <th>start_station_name</th>\n",
       "      <th>start_station_id</th>\n",
       "      <th>end_station_name</th>\n",
       "      <th>end_station_id</th>\n",
       "      <th>start_lat</th>\n",
       "      <th>start_lng</th>\n",
       "      <th>end_lat</th>\n",
       "      <th>end_lng</th>\n",
       "      <th>member_casual</th>\n",
       "    </tr>\n",
       "  </thead>\n",
       "  <tbody>\n",
       "    <tr>\n",
       "      <th>105</th>\n",
       "      <td>3F624CAD11ADC36B</td>\n",
       "      <td>electric_bike</td>\n",
       "      <td>2023-01-24 19:15:35</td>\n",
       "      <td>2023-01-24 19:21:59</td>\n",
       "      <td>NaN</td>\n",
       "      <td>NaN</td>\n",
       "      <td>Greenwood Ave &amp; 47th St</td>\n",
       "      <td>TA1308000002</td>\n",
       "      <td>41.80</td>\n",
       "      <td>-87.62</td>\n",
       "      <td>41.809835</td>\n",
       "      <td>-87.599383</td>\n",
       "      <td>member</td>\n",
       "    </tr>\n",
       "    <tr>\n",
       "      <th>106</th>\n",
       "      <td>7F4991C08F87A20F</td>\n",
       "      <td>electric_bike</td>\n",
       "      <td>2023-01-27 12:36:53</td>\n",
       "      <td>2023-01-27 13:02:30</td>\n",
       "      <td>NaN</td>\n",
       "      <td>NaN</td>\n",
       "      <td>Greenwood Ave &amp; 47th St</td>\n",
       "      <td>TA1308000002</td>\n",
       "      <td>41.80</td>\n",
       "      <td>-87.62</td>\n",
       "      <td>41.809835</td>\n",
       "      <td>-87.599383</td>\n",
       "      <td>member</td>\n",
       "    </tr>\n",
       "    <tr>\n",
       "      <th>107</th>\n",
       "      <td>F3AD17CF04B88EE9</td>\n",
       "      <td>electric_bike</td>\n",
       "      <td>2023-01-20 00:37:00</td>\n",
       "      <td>2023-01-20 00:46:09</td>\n",
       "      <td>NaN</td>\n",
       "      <td>NaN</td>\n",
       "      <td>Greenwood Ave &amp; 47th St</td>\n",
       "      <td>TA1308000002</td>\n",
       "      <td>41.78</td>\n",
       "      <td>-87.59</td>\n",
       "      <td>41.809835</td>\n",
       "      <td>-87.599383</td>\n",
       "      <td>member</td>\n",
       "    </tr>\n",
       "    <tr>\n",
       "      <th>108</th>\n",
       "      <td>CA3677FEF8FD11B6</td>\n",
       "      <td>electric_bike</td>\n",
       "      <td>2023-01-27 02:13:40</td>\n",
       "      <td>2023-01-27 02:18:22</td>\n",
       "      <td>NaN</td>\n",
       "      <td>NaN</td>\n",
       "      <td>Greenwood Ave &amp; 47th St</td>\n",
       "      <td>TA1308000002</td>\n",
       "      <td>41.80</td>\n",
       "      <td>-87.60</td>\n",
       "      <td>41.809835</td>\n",
       "      <td>-87.599383</td>\n",
       "      <td>member</td>\n",
       "    </tr>\n",
       "    <tr>\n",
       "      <th>110</th>\n",
       "      <td>6FFD201EBB80C87C</td>\n",
       "      <td>electric_bike</td>\n",
       "      <td>2023-01-16 01:43:52</td>\n",
       "      <td>2023-01-16 01:52:02</td>\n",
       "      <td>NaN</td>\n",
       "      <td>NaN</td>\n",
       "      <td>Clark St &amp; Elmdale Ave</td>\n",
       "      <td>KA1504000148</td>\n",
       "      <td>42.00</td>\n",
       "      <td>-87.68</td>\n",
       "      <td>41.990860</td>\n",
       "      <td>-87.669724</td>\n",
       "      <td>member</td>\n",
       "    </tr>\n",
       "  </tbody>\n",
       "</table>\n",
       "</div>"
      ],
      "text/plain": [
       "              ride_id  rideable_type           started_at  \\\n",
       "105  3F624CAD11ADC36B  electric_bike  2023-01-24 19:15:35   \n",
       "106  7F4991C08F87A20F  electric_bike  2023-01-27 12:36:53   \n",
       "107  F3AD17CF04B88EE9  electric_bike  2023-01-20 00:37:00   \n",
       "108  CA3677FEF8FD11B6  electric_bike  2023-01-27 02:13:40   \n",
       "110  6FFD201EBB80C87C  electric_bike  2023-01-16 01:43:52   \n",
       "\n",
       "                ended_at start_station_name start_station_id  \\\n",
       "105  2023-01-24 19:21:59                NaN              NaN   \n",
       "106  2023-01-27 13:02:30                NaN              NaN   \n",
       "107  2023-01-20 00:46:09                NaN              NaN   \n",
       "108  2023-01-27 02:18:22                NaN              NaN   \n",
       "110  2023-01-16 01:52:02                NaN              NaN   \n",
       "\n",
       "            end_station_name end_station_id  start_lat  start_lng    end_lat  \\\n",
       "105  Greenwood Ave & 47th St   TA1308000002      41.80     -87.62  41.809835   \n",
       "106  Greenwood Ave & 47th St   TA1308000002      41.80     -87.62  41.809835   \n",
       "107  Greenwood Ave & 47th St   TA1308000002      41.78     -87.59  41.809835   \n",
       "108  Greenwood Ave & 47th St   TA1308000002      41.80     -87.60  41.809835   \n",
       "110   Clark St & Elmdale Ave   KA1504000148      42.00     -87.68  41.990860   \n",
       "\n",
       "       end_lng member_casual  \n",
       "105 -87.599383        member  \n",
       "106 -87.599383        member  \n",
       "107 -87.599383        member  \n",
       "108 -87.599383        member  \n",
       "110 -87.669724        member  "
      ]
     },
     "execution_count": 57,
     "metadata": {},
     "output_type": "execute_result"
    }
   ],
   "source": [
    "# DataFrame containing rows from 'df_Cyclistic' where any column has missing values\n",
    "data_null = df_Cyclistic[df_Cyclistic.isnull().any(axis=1)]\n",
    "data_null.head()"
   ]
  },
  {
   "cell_type": "code",
   "execution_count": 58,
   "metadata": {},
   "outputs": [
    {
     "name": "stdout",
     "output_type": "stream",
     "text": [
      "<class 'pandas.core.frame.DataFrame'>\n",
      "RangeIndex: 4331707 entries, 0 to 4331706\n",
      "Data columns (total 13 columns):\n",
      " #   Column              Dtype  \n",
      "---  ------              -----  \n",
      " 0   ride_id             object \n",
      " 1   rideable_type       object \n",
      " 2   started_at          object \n",
      " 3   ended_at            object \n",
      " 4   start_station_name  object \n",
      " 5   start_station_id    object \n",
      " 6   end_station_name    object \n",
      " 7   end_station_id      object \n",
      " 8   start_lat           float64\n",
      " 9   start_lng           float64\n",
      " 10  end_lat             float64\n",
      " 11  end_lng             float64\n",
      " 12  member_casual       object \n",
      "dtypes: float64(4), object(9)\n",
      "memory usage: 429.6+ MB\n"
     ]
    }
   ],
   "source": [
    "# Remove rows with any missing values from the 'df_Cyclistic'\n",
    "df_Cyclistic.dropna(inplace=True)\n",
    "df_Cyclistic.reset_index(drop=True, inplace=True)\n",
    "df_Cyclistic.info()"
   ]
  },
  {
   "cell_type": "code",
   "execution_count": 59,
   "metadata": {},
   "outputs": [
    {
     "data": {
      "text/plain": [
       "0"
      ]
     },
     "execution_count": 59,
     "metadata": {},
     "output_type": "execute_result"
    }
   ],
   "source": [
    "# Count of duplicated rows in the df_Cyclistic\n",
    "data_duplicated = df_Cyclistic.duplicated().sum()\n",
    "data_duplicated"
   ]
  }
 ],
 "metadata": {
  "kernelspec": {
   "display_name": "Python 3",
   "language": "python",
   "name": "python3"
  },
  "language_info": {
   "codemirror_mode": {
    "name": "ipython",
    "version": 3
   },
   "file_extension": ".py",
   "mimetype": "text/x-python",
   "name": "python",
   "nbconvert_exporter": "python",
   "pygments_lexer": "ipython3",
   "version": "3.11.9"
  }
 },
 "nbformat": 4,
 "nbformat_minor": 2
}
